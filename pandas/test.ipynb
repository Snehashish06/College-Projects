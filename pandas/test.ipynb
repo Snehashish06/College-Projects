{
 "cells": [
  {
   "cell_type": "code",
   "execution_count": 75,
   "id": "b7d3a951",
   "metadata": {},
   "outputs": [],
   "source": [
    "import pandas as pd\n",
    "import numpy as np"
   ]
  },
  {
   "cell_type": "code",
   "execution_count": 2,
   "id": "d1e0238b",
   "metadata": {},
   "outputs": [],
   "source": [
    "dat = pd.read_csv(\"student.csv\")"
   ]
  },
  {
   "cell_type": "code",
   "execution_count": 3,
   "id": "c70798f3",
   "metadata": {},
   "outputs": [
    {
     "data": {
      "text/html": [
       "<div>\n",
       "<style scoped>\n",
       "    .dataframe tbody tr th:only-of-type {\n",
       "        vertical-align: middle;\n",
       "    }\n",
       "\n",
       "    .dataframe tbody tr th {\n",
       "        vertical-align: top;\n",
       "    }\n",
       "\n",
       "    .dataframe thead th {\n",
       "        text-align: right;\n",
       "    }\n",
       "</style>\n",
       "<table border=\"1\" class=\"dataframe\">\n",
       "  <thead>\n",
       "    <tr style=\"text-align: right;\">\n",
       "      <th></th>\n",
       "      <th>id</th>\n",
       "      <th>name</th>\n",
       "      <th>class</th>\n",
       "      <th>mark</th>\n",
       "      <th>gender</th>\n",
       "    </tr>\n",
       "  </thead>\n",
       "  <tbody>\n",
       "    <tr>\n",
       "      <th>0</th>\n",
       "      <td>1</td>\n",
       "      <td>John Deo</td>\n",
       "      <td>Four</td>\n",
       "      <td>75</td>\n",
       "      <td>female</td>\n",
       "    </tr>\n",
       "    <tr>\n",
       "      <th>1</th>\n",
       "      <td>2</td>\n",
       "      <td>Max Ruin</td>\n",
       "      <td>Three</td>\n",
       "      <td>85</td>\n",
       "      <td>male</td>\n",
       "    </tr>\n",
       "    <tr>\n",
       "      <th>2</th>\n",
       "      <td>3</td>\n",
       "      <td>Arnold</td>\n",
       "      <td>Three</td>\n",
       "      <td>55</td>\n",
       "      <td>male</td>\n",
       "    </tr>\n",
       "    <tr>\n",
       "      <th>3</th>\n",
       "      <td>4</td>\n",
       "      <td>Krish Star</td>\n",
       "      <td>Four</td>\n",
       "      <td>60</td>\n",
       "      <td>female</td>\n",
       "    </tr>\n",
       "    <tr>\n",
       "      <th>4</th>\n",
       "      <td>5</td>\n",
       "      <td>John Mike</td>\n",
       "      <td>Four</td>\n",
       "      <td>60</td>\n",
       "      <td>female</td>\n",
       "    </tr>\n",
       "    <tr>\n",
       "      <th>5</th>\n",
       "      <td>6</td>\n",
       "      <td>Alex John</td>\n",
       "      <td>Four</td>\n",
       "      <td>55</td>\n",
       "      <td>male</td>\n",
       "    </tr>\n",
       "    <tr>\n",
       "      <th>6</th>\n",
       "      <td>7</td>\n",
       "      <td>My John Rob</td>\n",
       "      <td>Fifth</td>\n",
       "      <td>78</td>\n",
       "      <td>male</td>\n",
       "    </tr>\n",
       "    <tr>\n",
       "      <th>7</th>\n",
       "      <td>8</td>\n",
       "      <td>Asruid</td>\n",
       "      <td>Five</td>\n",
       "      <td>85</td>\n",
       "      <td>male</td>\n",
       "    </tr>\n",
       "    <tr>\n",
       "      <th>8</th>\n",
       "      <td>9</td>\n",
       "      <td>Tes Qry</td>\n",
       "      <td>Six</td>\n",
       "      <td>78</td>\n",
       "      <td>male</td>\n",
       "    </tr>\n",
       "    <tr>\n",
       "      <th>9</th>\n",
       "      <td>10</td>\n",
       "      <td>Big John</td>\n",
       "      <td>Four</td>\n",
       "      <td>55</td>\n",
       "      <td>female</td>\n",
       "    </tr>\n",
       "    <tr>\n",
       "      <th>10</th>\n",
       "      <td>11</td>\n",
       "      <td>Ronald</td>\n",
       "      <td>Six</td>\n",
       "      <td>89</td>\n",
       "      <td>female</td>\n",
       "    </tr>\n",
       "    <tr>\n",
       "      <th>11</th>\n",
       "      <td>12</td>\n",
       "      <td>Recky</td>\n",
       "      <td>Six</td>\n",
       "      <td>94</td>\n",
       "      <td>female</td>\n",
       "    </tr>\n",
       "    <tr>\n",
       "      <th>12</th>\n",
       "      <td>13</td>\n",
       "      <td>Kty</td>\n",
       "      <td>Seven</td>\n",
       "      <td>88</td>\n",
       "      <td>female</td>\n",
       "    </tr>\n",
       "    <tr>\n",
       "      <th>13</th>\n",
       "      <td>14</td>\n",
       "      <td>Bigy</td>\n",
       "      <td>Seven</td>\n",
       "      <td>88</td>\n",
       "      <td>female</td>\n",
       "    </tr>\n",
       "    <tr>\n",
       "      <th>14</th>\n",
       "      <td>15</td>\n",
       "      <td>Tade Row</td>\n",
       "      <td>Four</td>\n",
       "      <td>88</td>\n",
       "      <td>male</td>\n",
       "    </tr>\n",
       "    <tr>\n",
       "      <th>15</th>\n",
       "      <td>16</td>\n",
       "      <td>Gimmy</td>\n",
       "      <td>Four</td>\n",
       "      <td>88</td>\n",
       "      <td>male</td>\n",
       "    </tr>\n",
       "    <tr>\n",
       "      <th>16</th>\n",
       "      <td>17</td>\n",
       "      <td>Tumyu</td>\n",
       "      <td>Six</td>\n",
       "      <td>54</td>\n",
       "      <td>male</td>\n",
       "    </tr>\n",
       "    <tr>\n",
       "      <th>17</th>\n",
       "      <td>18</td>\n",
       "      <td>Honny</td>\n",
       "      <td>Five</td>\n",
       "      <td>75</td>\n",
       "      <td>male</td>\n",
       "    </tr>\n",
       "    <tr>\n",
       "      <th>18</th>\n",
       "      <td>19</td>\n",
       "      <td>Tinny</td>\n",
       "      <td>Nine</td>\n",
       "      <td>18</td>\n",
       "      <td>male</td>\n",
       "    </tr>\n",
       "    <tr>\n",
       "      <th>19</th>\n",
       "      <td>20</td>\n",
       "      <td>Jackly</td>\n",
       "      <td>Nine</td>\n",
       "      <td>65</td>\n",
       "      <td>female</td>\n",
       "    </tr>\n",
       "    <tr>\n",
       "      <th>20</th>\n",
       "      <td>21</td>\n",
       "      <td>Babby John</td>\n",
       "      <td>Four</td>\n",
       "      <td>69</td>\n",
       "      <td>female</td>\n",
       "    </tr>\n",
       "    <tr>\n",
       "      <th>21</th>\n",
       "      <td>22</td>\n",
       "      <td>Reggid</td>\n",
       "      <td>Seven</td>\n",
       "      <td>55</td>\n",
       "      <td>female</td>\n",
       "    </tr>\n",
       "    <tr>\n",
       "      <th>22</th>\n",
       "      <td>23</td>\n",
       "      <td>Herod</td>\n",
       "      <td>Eight</td>\n",
       "      <td>79</td>\n",
       "      <td>male</td>\n",
       "    </tr>\n",
       "    <tr>\n",
       "      <th>23</th>\n",
       "      <td>24</td>\n",
       "      <td>Tiddy Now</td>\n",
       "      <td>Seven</td>\n",
       "      <td>78</td>\n",
       "      <td>male</td>\n",
       "    </tr>\n",
       "    <tr>\n",
       "      <th>24</th>\n",
       "      <td>25</td>\n",
       "      <td>Giff Tow</td>\n",
       "      <td>Seven</td>\n",
       "      <td>88</td>\n",
       "      <td>male</td>\n",
       "    </tr>\n",
       "    <tr>\n",
       "      <th>25</th>\n",
       "      <td>26</td>\n",
       "      <td>Crelea</td>\n",
       "      <td>Seven</td>\n",
       "      <td>79</td>\n",
       "      <td>male</td>\n",
       "    </tr>\n",
       "    <tr>\n",
       "      <th>26</th>\n",
       "      <td>27</td>\n",
       "      <td>Big Nose</td>\n",
       "      <td>Three</td>\n",
       "      <td>81</td>\n",
       "      <td>female</td>\n",
       "    </tr>\n",
       "    <tr>\n",
       "      <th>27</th>\n",
       "      <td>28</td>\n",
       "      <td>Rojj Base</td>\n",
       "      <td>Seven</td>\n",
       "      <td>86</td>\n",
       "      <td>female</td>\n",
       "    </tr>\n",
       "    <tr>\n",
       "      <th>28</th>\n",
       "      <td>29</td>\n",
       "      <td>Tess Played</td>\n",
       "      <td>Seven</td>\n",
       "      <td>55</td>\n",
       "      <td>male</td>\n",
       "    </tr>\n",
       "    <tr>\n",
       "      <th>29</th>\n",
       "      <td>30</td>\n",
       "      <td>Reppy Red</td>\n",
       "      <td>Six</td>\n",
       "      <td>79</td>\n",
       "      <td>female</td>\n",
       "    </tr>\n",
       "    <tr>\n",
       "      <th>30</th>\n",
       "      <td>31</td>\n",
       "      <td>Marry Toeey</td>\n",
       "      <td>Four</td>\n",
       "      <td>88</td>\n",
       "      <td>male</td>\n",
       "    </tr>\n",
       "    <tr>\n",
       "      <th>31</th>\n",
       "      <td>32</td>\n",
       "      <td>Binn Rott</td>\n",
       "      <td>Seven</td>\n",
       "      <td>90</td>\n",
       "      <td>female</td>\n",
       "    </tr>\n",
       "    <tr>\n",
       "      <th>32</th>\n",
       "      <td>33</td>\n",
       "      <td>Kenn Rein</td>\n",
       "      <td>Six</td>\n",
       "      <td>96</td>\n",
       "      <td>female</td>\n",
       "    </tr>\n",
       "    <tr>\n",
       "      <th>33</th>\n",
       "      <td>34</td>\n",
       "      <td>Gain Toe</td>\n",
       "      <td>Seven</td>\n",
       "      <td>69</td>\n",
       "      <td>male</td>\n",
       "    </tr>\n",
       "    <tr>\n",
       "      <th>34</th>\n",
       "      <td>35</td>\n",
       "      <td>Rows Noump</td>\n",
       "      <td>Six</td>\n",
       "      <td>88</td>\n",
       "      <td>female</td>\n",
       "    </tr>\n",
       "  </tbody>\n",
       "</table>\n",
       "</div>"
      ],
      "text/plain": [
       "    id         name  class  mark  gender\n",
       "0    1     John Deo   Four    75  female\n",
       "1    2     Max Ruin  Three    85    male\n",
       "2    3       Arnold  Three    55    male\n",
       "3    4   Krish Star   Four    60  female\n",
       "4    5    John Mike   Four    60  female\n",
       "5    6    Alex John   Four    55    male\n",
       "6    7  My John Rob  Fifth    78    male\n",
       "7    8       Asruid   Five    85    male\n",
       "8    9      Tes Qry    Six    78    male\n",
       "9   10     Big John   Four    55  female\n",
       "10  11       Ronald    Six    89  female\n",
       "11  12        Recky    Six    94  female\n",
       "12  13          Kty  Seven    88  female\n",
       "13  14         Bigy  Seven    88  female\n",
       "14  15     Tade Row   Four    88    male\n",
       "15  16        Gimmy   Four    88    male\n",
       "16  17        Tumyu    Six    54    male\n",
       "17  18        Honny   Five    75    male\n",
       "18  19        Tinny   Nine    18    male\n",
       "19  20       Jackly   Nine    65  female\n",
       "20  21   Babby John   Four    69  female\n",
       "21  22       Reggid  Seven    55  female\n",
       "22  23        Herod  Eight    79    male\n",
       "23  24    Tiddy Now  Seven    78    male\n",
       "24  25     Giff Tow  Seven    88    male\n",
       "25  26       Crelea  Seven    79    male\n",
       "26  27     Big Nose  Three    81  female\n",
       "27  28    Rojj Base  Seven    86  female\n",
       "28  29  Tess Played  Seven    55    male\n",
       "29  30    Reppy Red    Six    79  female\n",
       "30  31  Marry Toeey   Four    88    male\n",
       "31  32    Binn Rott  Seven    90  female\n",
       "32  33    Kenn Rein    Six    96  female\n",
       "33  34     Gain Toe  Seven    69    male\n",
       "34  35   Rows Noump    Six    88  female"
      ]
     },
     "execution_count": 3,
     "metadata": {},
     "output_type": "execute_result"
    }
   ],
   "source": [
    "dat"
   ]
  },
  {
   "cell_type": "code",
   "execution_count": 4,
   "id": "57e89f66",
   "metadata": {},
   "outputs": [],
   "source": [
    "det = {\n",
    "    \"Students\": [\"Snehashish Biswas\", \"Rin Nohara\", \"Hinata Hyuga\", \"Naruto Uzumaki\", \"Kakashi Hatake\", \"Obito Uchiha\", \"Sasuke Uchiha\", \"Shikamaru Nara\"],\n",
    "    \"Class\": [\"Xii\", \"Graduated\", \"Graduated\", \"Graduated\", \"Graduated\", \"Graduated\", \"Graduated\", \"Graduated\"],\n",
    "    \"Age\": [17, 18, 19, 20, 25, 18, 20, 21],\n",
    "    \"Roll\": [1, 2, 3, 4, 5, 6, 7, 8],\n",
    "    \"Favourite(s)\": [\"Coding\", \"Kakashi\", \"Naruto\", \"Sakura\", \"Hidden leaf\", \"Rin\", \"Revenge\", \"Asuma Sarutobi\"],\n",
    "    \"Rival\": [\"None\", \"None\", \"None\", \"Sasuke Uchiha\", \"Guy\", \"Kakashi Hatake\", \"Naruto Uzumaki\", \"None\"],\n",
    "    \"Marks\": [69, 11, 9, 12, 15, 16, 70, 8], \n",
    "    \"Loyality\": [True, True, True, True, True, True, False, True],\n",
    "    \"Alive\": [True, \"Dead\", True, True, True, True, True, True],\n",
    "    \"Status\": [\"Student\", \"Genin\", \"Chunin\", \"Chunin\", \"Chunin\", \"Genin\", \"Genin\", \"Chunin\"]\n",
    "}"
   ]
  },
  {
   "cell_type": "code",
   "execution_count": 5,
   "id": "68a17765",
   "metadata": {},
   "outputs": [],
   "source": [
    "fr = pd.DataFrame(det, index = [\"6969\", 4254, 9867, 6672, 1234, 1653, 8987, 7868]).rename_axis(\"ID\")"
   ]
  },
  {
   "cell_type": "code",
   "execution_count": 6,
   "id": "f143fa71",
   "metadata": {},
   "outputs": [
    {
     "data": {
      "text/html": [
       "<div>\n",
       "<style scoped>\n",
       "    .dataframe tbody tr th:only-of-type {\n",
       "        vertical-align: middle;\n",
       "    }\n",
       "\n",
       "    .dataframe tbody tr th {\n",
       "        vertical-align: top;\n",
       "    }\n",
       "\n",
       "    .dataframe thead th {\n",
       "        text-align: right;\n",
       "    }\n",
       "</style>\n",
       "<table border=\"1\" class=\"dataframe\">\n",
       "  <thead>\n",
       "    <tr style=\"text-align: right;\">\n",
       "      <th></th>\n",
       "      <th>Students</th>\n",
       "      <th>Class</th>\n",
       "      <th>Age</th>\n",
       "      <th>Roll</th>\n",
       "      <th>Favourite(s)</th>\n",
       "      <th>Rival</th>\n",
       "      <th>Marks</th>\n",
       "      <th>Loyality</th>\n",
       "      <th>Alive</th>\n",
       "      <th>Status</th>\n",
       "    </tr>\n",
       "    <tr>\n",
       "      <th>ID</th>\n",
       "      <th></th>\n",
       "      <th></th>\n",
       "      <th></th>\n",
       "      <th></th>\n",
       "      <th></th>\n",
       "      <th></th>\n",
       "      <th></th>\n",
       "      <th></th>\n",
       "      <th></th>\n",
       "      <th></th>\n",
       "    </tr>\n",
       "  </thead>\n",
       "  <tbody>\n",
       "    <tr>\n",
       "      <th>6969</th>\n",
       "      <td>Snehashish Biswas</td>\n",
       "      <td>Xii</td>\n",
       "      <td>17</td>\n",
       "      <td>1</td>\n",
       "      <td>Coding</td>\n",
       "      <td>None</td>\n",
       "      <td>69</td>\n",
       "      <td>True</td>\n",
       "      <td>True</td>\n",
       "      <td>Student</td>\n",
       "    </tr>\n",
       "    <tr>\n",
       "      <th>4254</th>\n",
       "      <td>Rin Nohara</td>\n",
       "      <td>Graduated</td>\n",
       "      <td>18</td>\n",
       "      <td>2</td>\n",
       "      <td>Kakashi</td>\n",
       "      <td>None</td>\n",
       "      <td>11</td>\n",
       "      <td>True</td>\n",
       "      <td>Dead</td>\n",
       "      <td>Genin</td>\n",
       "    </tr>\n",
       "    <tr>\n",
       "      <th>9867</th>\n",
       "      <td>Hinata Hyuga</td>\n",
       "      <td>Graduated</td>\n",
       "      <td>19</td>\n",
       "      <td>3</td>\n",
       "      <td>Naruto</td>\n",
       "      <td>None</td>\n",
       "      <td>9</td>\n",
       "      <td>True</td>\n",
       "      <td>True</td>\n",
       "      <td>Chunin</td>\n",
       "    </tr>\n",
       "    <tr>\n",
       "      <th>6672</th>\n",
       "      <td>Naruto Uzumaki</td>\n",
       "      <td>Graduated</td>\n",
       "      <td>20</td>\n",
       "      <td>4</td>\n",
       "      <td>Sakura</td>\n",
       "      <td>Sasuke Uchiha</td>\n",
       "      <td>12</td>\n",
       "      <td>True</td>\n",
       "      <td>True</td>\n",
       "      <td>Chunin</td>\n",
       "    </tr>\n",
       "    <tr>\n",
       "      <th>1234</th>\n",
       "      <td>Kakashi Hatake</td>\n",
       "      <td>Graduated</td>\n",
       "      <td>25</td>\n",
       "      <td>5</td>\n",
       "      <td>Hidden leaf</td>\n",
       "      <td>Guy</td>\n",
       "      <td>15</td>\n",
       "      <td>True</td>\n",
       "      <td>True</td>\n",
       "      <td>Chunin</td>\n",
       "    </tr>\n",
       "    <tr>\n",
       "      <th>1653</th>\n",
       "      <td>Obito Uchiha</td>\n",
       "      <td>Graduated</td>\n",
       "      <td>18</td>\n",
       "      <td>6</td>\n",
       "      <td>Rin</td>\n",
       "      <td>Kakashi Hatake</td>\n",
       "      <td>16</td>\n",
       "      <td>True</td>\n",
       "      <td>True</td>\n",
       "      <td>Genin</td>\n",
       "    </tr>\n",
       "    <tr>\n",
       "      <th>8987</th>\n",
       "      <td>Sasuke Uchiha</td>\n",
       "      <td>Graduated</td>\n",
       "      <td>20</td>\n",
       "      <td>7</td>\n",
       "      <td>Revenge</td>\n",
       "      <td>Naruto Uzumaki</td>\n",
       "      <td>70</td>\n",
       "      <td>False</td>\n",
       "      <td>True</td>\n",
       "      <td>Genin</td>\n",
       "    </tr>\n",
       "    <tr>\n",
       "      <th>7868</th>\n",
       "      <td>Shikamaru Nara</td>\n",
       "      <td>Graduated</td>\n",
       "      <td>21</td>\n",
       "      <td>8</td>\n",
       "      <td>Asuma Sarutobi</td>\n",
       "      <td>None</td>\n",
       "      <td>8</td>\n",
       "      <td>True</td>\n",
       "      <td>True</td>\n",
       "      <td>Chunin</td>\n",
       "    </tr>\n",
       "  </tbody>\n",
       "</table>\n",
       "</div>"
      ],
      "text/plain": [
       "               Students      Class  Age  Roll    Favourite(s)           Rival  \\\n",
       "ID                                                                              \n",
       "6969  Snehashish Biswas        Xii   17     1          Coding            None   \n",
       "4254         Rin Nohara  Graduated   18     2         Kakashi            None   \n",
       "9867       Hinata Hyuga  Graduated   19     3          Naruto            None   \n",
       "6672     Naruto Uzumaki  Graduated   20     4          Sakura   Sasuke Uchiha   \n",
       "1234     Kakashi Hatake  Graduated   25     5     Hidden leaf             Guy   \n",
       "1653       Obito Uchiha  Graduated   18     6             Rin  Kakashi Hatake   \n",
       "8987      Sasuke Uchiha  Graduated   20     7         Revenge  Naruto Uzumaki   \n",
       "7868     Shikamaru Nara  Graduated   21     8  Asuma Sarutobi            None   \n",
       "\n",
       "      Marks  Loyality Alive   Status  \n",
       "ID                                    \n",
       "6969     69      True  True  Student  \n",
       "4254     11      True  Dead    Genin  \n",
       "9867      9      True  True   Chunin  \n",
       "6672     12      True  True   Chunin  \n",
       "1234     15      True  True   Chunin  \n",
       "1653     16      True  True    Genin  \n",
       "8987     70     False  True    Genin  \n",
       "7868      8      True  True   Chunin  "
      ]
     },
     "execution_count": 6,
     "metadata": {},
     "output_type": "execute_result"
    }
   ],
   "source": [
    "fr"
   ]
  },
  {
   "cell_type": "code",
   "execution_count": 7,
   "id": "563e64c1",
   "metadata": {},
   "outputs": [
    {
     "data": {
      "text/plain": [
       "'Chunin'"
      ]
     },
     "execution_count": 7,
     "metadata": {},
     "output_type": "execute_result"
    }
   ],
   "source": [
    "fr.loc[7868, \"Status\"]"
   ]
  },
  {
   "cell_type": "code",
   "execution_count": 8,
   "id": "b892c8de",
   "metadata": {},
   "outputs": [],
   "source": [
    "dff = {\n",
    "    \"Name\": [\"Rin\", \"Ino\", \"Minato\"],\n",
    "    \"status\": [\"Genin\", \"Chunin\", \"Hokage\"]\n",
    "}"
   ]
  },
  {
   "cell_type": "code",
   "execution_count": 122,
   "id": "7660fef0",
   "metadata": {},
   "outputs": [],
   "source": [
    "dfr = pd.DataFrame(dff)"
   ]
  },
  {
   "cell_type": "code",
   "execution_count": 106,
   "id": "7e52aa04",
   "metadata": {},
   "outputs": [
    {
     "data": {
      "text/html": [
       "<div>\n",
       "<style scoped>\n",
       "    .dataframe tbody tr th:only-of-type {\n",
       "        vertical-align: middle;\n",
       "    }\n",
       "\n",
       "    .dataframe tbody tr th {\n",
       "        vertical-align: top;\n",
       "    }\n",
       "\n",
       "    .dataframe thead th {\n",
       "        text-align: right;\n",
       "    }\n",
       "</style>\n",
       "<table border=\"1\" class=\"dataframe\">\n",
       "  <thead>\n",
       "    <tr style=\"text-align: right;\">\n",
       "      <th></th>\n",
       "      <th>Name</th>\n",
       "      <th>status</th>\n",
       "    </tr>\n",
       "  </thead>\n",
       "  <tbody>\n",
       "    <tr>\n",
       "      <th>0</th>\n",
       "      <td>Rin</td>\n",
       "      <td>Genin</td>\n",
       "    </tr>\n",
       "    <tr>\n",
       "      <th>1</th>\n",
       "      <td>Ino</td>\n",
       "      <td>Chunin</td>\n",
       "    </tr>\n",
       "    <tr>\n",
       "      <th>2</th>\n",
       "      <td>Minato</td>\n",
       "      <td>Hokage</td>\n",
       "    </tr>\n",
       "  </tbody>\n",
       "</table>\n",
       "</div>"
      ],
      "text/plain": [
       "     Name  status\n",
       "0     Rin   Genin\n",
       "1     Ino  Chunin\n",
       "2  Minato  Hokage"
      ]
     },
     "execution_count": 106,
     "metadata": {},
     "output_type": "execute_result"
    }
   ],
   "source": [
    "dfr"
   ]
  },
  {
   "cell_type": "code",
   "execution_count": 10,
   "id": "cf50f3b2",
   "metadata": {},
   "outputs": [
    {
     "data": {
      "text/plain": [
       "'Hokage'"
      ]
     },
     "execution_count": 10,
     "metadata": {},
     "output_type": "execute_result"
    }
   ],
   "source": [
    "dfr.loc[2, 'status']"
   ]
  },
  {
   "cell_type": "code",
   "execution_count": 12,
   "id": "a35aa026",
   "metadata": {},
   "outputs": [
    {
     "data": {
      "text/plain": [
       "array([['Rin', 'Genin'],\n",
       "       ['Ino', 'Chunin'],\n",
       "       ['Minato', 'Hokage']], dtype=object)"
      ]
     },
     "execution_count": 12,
     "metadata": {},
     "output_type": "execute_result"
    }
   ],
   "source": [
    "dfr.values"
   ]
  },
  {
   "cell_type": "code",
   "execution_count": 23,
   "id": "00a29102",
   "metadata": {},
   "outputs": [
    {
     "data": {
      "text/plain": [
       "2"
      ]
     },
     "execution_count": 23,
     "metadata": {},
     "output_type": "execute_result"
    }
   ],
   "source": [
    "dfr.ndim"
   ]
  },
  {
   "cell_type": "code",
   "execution_count": 129,
   "id": "f3eedf32",
   "metadata": {},
   "outputs": [],
   "source": [
    "ser = pd.Series(5000, index = [\"April\", \"May\", \"June\", \"July\"]).rename_axis(\"Salary\")"
   ]
  },
  {
   "cell_type": "code",
   "execution_count": 53,
   "id": "68c2f85c",
   "metadata": {},
   "outputs": [],
   "source": [
    "ser['July'] = 6000\n",
    "ser.loc['may'] = 7000"
   ]
  },
  {
   "cell_type": "code",
   "execution_count": 55,
   "id": "39879502",
   "metadata": {},
   "outputs": [
    {
     "data": {
      "text/plain": [
       "Salary\n",
       "July    6000\n",
       "may     7000\n",
       "dtype: int64"
      ]
     },
     "execution_count": 55,
     "metadata": {},
     "output_type": "execute_result"
    }
   ],
   "source": [
    "ser.loc[ser.values > 5000]"
   ]
  },
  {
   "cell_type": "code",
   "execution_count": 130,
   "id": "00b3eb43",
   "metadata": {},
   "outputs": [
    {
     "data": {
      "text/plain": [
       "Salary\n",
       "April    5000\n",
       "May      5000\n",
       "dtype: int64"
      ]
     },
     "execution_count": 130,
     "metadata": {},
     "output_type": "execute_result"
    }
   ],
   "source": [
    "ser[ser.keys().isin(['May', 'April'])]"
   ]
  },
  {
   "cell_type": "code",
   "execution_count": 85,
   "id": "8e10ccbe",
   "metadata": {},
   "outputs": [],
   "source": [
    "d1 = {\n",
    "    \"Name\": [\"Sh\", np.nan],\n",
    "    \"Class\": ['Xii', \"Xi\"]\n",
    "}"
   ]
  },
  {
   "cell_type": "code",
   "execution_count": 86,
   "id": "3847e923",
   "metadata": {},
   "outputs": [],
   "source": [
    "s1 = pd.DataFrame(d1)"
   ]
  },
  {
   "cell_type": "code",
   "execution_count": 168,
   "id": "7ddb8673",
   "metadata": {},
   "outputs": [],
   "source": [
    "srr = [1]"
   ]
  },
  {
   "cell_type": "code",
   "execution_count": 179,
   "id": "3cdd7aea",
   "metadata": {},
   "outputs": [],
   "source": [
    "sq = pd.Series(srr, name = \"lel\")"
   ]
  },
  {
   "cell_type": "code",
   "execution_count": 171,
   "id": "0b5c182e",
   "metadata": {},
   "outputs": [
    {
     "data": {
      "text/plain": [
       "8"
      ]
     },
     "execution_count": 171,
     "metadata": {},
     "output_type": "execute_result"
    }
   ],
   "source": [
    "sq.values.itemsize # all has 8 size"
   ]
  },
  {
   "cell_type": "code",
   "execution_count": 180,
   "id": "8959d764",
   "metadata": {},
   "outputs": [
    {
     "data": {
      "text/plain": [
       "'lel'"
      ]
     },
     "execution_count": 180,
     "metadata": {},
     "output_type": "execute_result"
    }
   ],
   "source": [
    "sq.name"
   ]
  },
  {
   "cell_type": "code",
   "execution_count": 178,
   "id": "5b6dcab2",
   "metadata": {},
   "outputs": [
    {
     "data": {
      "text/plain": [
       "'Salary'"
      ]
     },
     "execution_count": 178,
     "metadata": {},
     "output_type": "execute_result"
    }
   ],
   "source": [
    "ser.index.name"
   ]
  },
  {
   "cell_type": "code",
   "execution_count": 117,
   "id": "14b5aced",
   "metadata": {},
   "outputs": [],
   "source": [
    "#dfr['Alive'] = [False, True, False]"
   ]
  },
  {
   "cell_type": "code",
   "execution_count": 123,
   "id": "7f7b0257",
   "metadata": {},
   "outputs": [
    {
     "data": {
      "text/html": [
       "<div>\n",
       "<style scoped>\n",
       "    .dataframe tbody tr th:only-of-type {\n",
       "        vertical-align: middle;\n",
       "    }\n",
       "\n",
       "    .dataframe tbody tr th {\n",
       "        vertical-align: top;\n",
       "    }\n",
       "\n",
       "    .dataframe thead th {\n",
       "        text-align: right;\n",
       "    }\n",
       "</style>\n",
       "<table border=\"1\" class=\"dataframe\">\n",
       "  <thead>\n",
       "    <tr style=\"text-align: right;\">\n",
       "      <th></th>\n",
       "      <th>Name</th>\n",
       "      <th>status</th>\n",
       "    </tr>\n",
       "  </thead>\n",
       "  <tbody>\n",
       "    <tr>\n",
       "      <th>0</th>\n",
       "      <td>Rin</td>\n",
       "      <td>Genin</td>\n",
       "    </tr>\n",
       "    <tr>\n",
       "      <th>1</th>\n",
       "      <td>Ino</td>\n",
       "      <td>Chunin</td>\n",
       "    </tr>\n",
       "    <tr>\n",
       "      <th>2</th>\n",
       "      <td>Minato</td>\n",
       "      <td>Hokage</td>\n",
       "    </tr>\n",
       "  </tbody>\n",
       "</table>\n",
       "</div>"
      ],
      "text/plain": [
       "     Name  status\n",
       "0     Rin   Genin\n",
       "1     Ino  Chunin\n",
       "2  Minato  Hokage"
      ]
     },
     "execution_count": 123,
     "metadata": {},
     "output_type": "execute_result"
    }
   ],
   "source": [
    "dfr"
   ]
  },
  {
   "cell_type": "code",
   "execution_count": 181,
   "id": "596aed48",
   "metadata": {},
   "outputs": [
    {
     "data": {
      "text/plain": [
       "(3, 2)"
      ]
     },
     "execution_count": 181,
     "metadata": {},
     "output_type": "execute_result"
    }
   ],
   "source": [
    "dfr.shape"
   ]
  },
  {
   "cell_type": "code",
   "execution_count": 183,
   "id": "019cb69c",
   "metadata": {},
   "outputs": [],
   "source": [
    "sr = pd.Series()"
   ]
  },
  {
   "cell_type": "code",
   "execution_count": 185,
   "id": "2877f4a8",
   "metadata": {},
   "outputs": [
    {
     "data": {
      "text/plain": [
       "True"
      ]
     },
     "execution_count": 185,
     "metadata": {},
     "output_type": "execute_result"
    }
   ],
   "source": [
    "sr.empty"
   ]
  }
 ],
 "metadata": {
  "kernelspec": {
   "display_name": "Python 3 (ipykernel)",
   "language": "python",
   "name": "python3"
  },
  "language_info": {
   "codemirror_mode": {
    "name": "ipython",
    "version": 3
   },
   "file_extension": ".py",
   "mimetype": "text/x-python",
   "name": "python",
   "nbconvert_exporter": "python",
   "pygments_lexer": "ipython3",
   "version": "3.11.4"
  }
 },
 "nbformat": 4,
 "nbformat_minor": 5
}
