{
 "cells": [
  {
   "cell_type": "code",
   "execution_count": 2,
   "metadata": {},
   "outputs": [],
   "source": [
    "import pandas as pd\n",
    "import numpy as np"
   ]
  },
  {
   "cell_type": "code",
   "execution_count": 3,
   "metadata": {},
   "outputs": [],
   "source": [
    "def p(*args):\n",
    "    print(*args)"
   ]
  },
  {
   "cell_type": "code",
   "execution_count": 4,
   "metadata": {},
   "outputs": [],
   "source": [
    "\n",
    "def Series(dat: list = ..., name = None):\n",
    "    print(pd.Series(dat, name = name))"
   ]
  },
  {
   "cell_type": "code",
   "execution_count": 5,
   "metadata": {},
   "outputs": [
    {
     "data": {
      "text/plain": [
       "0     4\n",
       "1     6\n",
       "2     8\n",
       "3    10\n",
       "dtype: int64"
      ]
     },
     "execution_count": 5,
     "metadata": {},
     "output_type": "execute_result"
    }
   ],
   "source": [
    "## example 1\n",
    "\n",
    "ser = pd.Series([4, 6, 8, 10])\n",
    "ser"
   ]
  },
  {
   "cell_type": "code",
   "execution_count": 6,
   "metadata": {},
   "outputs": [
    {
     "data": {
      "text/plain": [
       "0    11\n",
       "1    21\n",
       "2    31\n",
       "3    41\n",
       "dtype: int64"
      ]
     },
     "execution_count": 6,
     "metadata": {},
     "output_type": "execute_result"
    }
   ],
   "source": [
    "# example 2\n",
    "ser = pd.Series(np.linspace(11, 41, 4, dtype = np.int64))\n",
    "ser"
   ]
  },
  {
   "cell_type": "code",
   "execution_count": 7,
   "metadata": {},
   "outputs": [
    {
     "data": {
      "text/plain": [
       "0    o\n",
       "1    h\n",
       "2    o\n",
       "dtype: object"
      ]
     },
     "execution_count": 7,
     "metadata": {},
     "output_type": "execute_result"
    }
   ],
   "source": [
    "# example 3\n",
    "ser = pd.Series([\"o\", \"h\", \"o\"])\n",
    "ser"
   ]
  },
  {
   "cell_type": "code",
   "execution_count": 8,
   "metadata": {},
   "outputs": [
    {
     "name": "stdout",
     "output_type": "stream",
     "text": [
      "0    So Funny\n",
      "dtype: object\n"
     ]
    }
   ],
   "source": [
    "#example 4\n",
    "Series([\"So Funny\"])"
   ]
  },
  {
   "cell_type": "code",
   "execution_count": 9,
   "metadata": {},
   "outputs": [
    {
     "name": "stdout",
     "output_type": "stream",
     "text": [
      "0           I\n",
      "1          Am\n",
      "2    Laughing\n",
      "dtype: object\n"
     ]
    }
   ],
   "source": [
    "# example 5\n",
    "Series(['I', 'Am', 'Laughing'])"
   ]
  },
  {
   "cell_type": "code",
   "execution_count": 10,
   "metadata": {},
   "outputs": [
    {
     "name": "stdout",
     "output_type": "stream",
     "text": [
      "0    24.0\n",
      "1    34.0\n",
      "2    44.0\n",
      "3    54.0\n",
      "4    64.0\n",
      "dtype: float64\n"
     ]
    }
   ],
   "source": [
    "# example 6\n",
    "Series(np.linspace(24, 64, 5))"
   ]
  },
  {
   "cell_type": "code",
   "execution_count": 11,
   "metadata": {},
   "outputs": [
    {
     "data": {
      "text/plain": [
       "(array([11, 21, 31, 41]), 10.0)"
      ]
     },
     "execution_count": 11,
     "metadata": {},
     "output_type": "execute_result"
    }
   ],
   "source": [
    "np.linspace(11, 41, 4, retstep = True, dtype = int)"
   ]
  },
  {
   "cell_type": "code",
   "execution_count": 12,
   "metadata": {},
   "outputs": [
    {
     "data": {
      "text/plain": [
       "array([11, 21, 31])"
      ]
     },
     "execution_count": 12,
     "metadata": {},
     "output_type": "execute_result"
    }
   ],
   "source": [
    "np.arange(11, 41, 10) # start stop step"
   ]
  },
  {
   "cell_type": "code",
   "execution_count": 13,
   "metadata": {},
   "outputs": [
    {
     "data": {
      "text/plain": [
       "0    3\n",
       "1    5\n",
       "2    3\n",
       "3    5\n",
       "dtype: int32"
      ]
     },
     "execution_count": 13,
     "metadata": {},
     "output_type": "execute_result"
    }
   ],
   "source": [
    "# example 7\n",
    "pd.Series(np.tile([3, 5], 2))"
   ]
  },
  {
   "cell_type": "code",
   "execution_count": 14,
   "metadata": {},
   "outputs": [
    {
     "name": "stdout",
     "output_type": "stream",
     "text": [
      "[1, 2, 3, 1, 2, 3]\n"
     ]
    }
   ],
   "source": [
    "print([1, 2, 3]*2)"
   ]
  },
  {
   "cell_type": "code",
   "execution_count": 15,
   "metadata": {},
   "outputs": [
    {
     "name": "stdout",
     "output_type": "stream",
     "text": [
      "A    30\n",
      "B    24\n",
      "C    35\n",
      "dtype: int64\n"
     ]
    }
   ],
   "source": [
    "# example 8\n",
    "STUD = {\"A\": 30, \n",
    "        \"B\": 24, \n",
    "        \"C\": 35\n",
    "}\n",
    "Series(STUD) # INDEX VALUES"
   ]
  },
  {
   "cell_type": "code",
   "execution_count": 16,
   "metadata": {},
   "outputs": [
    {
     "data": {
      "text/html": [
       "<div>\n",
       "<style scoped>\n",
       "    .dataframe tbody tr th:only-of-type {\n",
       "        vertical-align: middle;\n",
       "    }\n",
       "\n",
       "    .dataframe tbody tr th {\n",
       "        vertical-align: top;\n",
       "    }\n",
       "\n",
       "    .dataframe thead th {\n",
       "        text-align: right;\n",
       "    }\n",
       "</style>\n",
       "<table border=\"1\" class=\"dataframe\">\n",
       "  <thead>\n",
       "    <tr style=\"text-align: right;\">\n",
       "      <th></th>\n",
       "      <th>A</th>\n",
       "    </tr>\n",
       "  </thead>\n",
       "  <tbody>\n",
       "    <tr>\n",
       "      <th>B</th>\n",
       "      <td>12</td>\n",
       "    </tr>\n",
       "  </tbody>\n",
       "</table>\n",
       "</div>"
      ],
      "text/plain": [
       "    A\n",
       "B  12"
      ]
     },
     "execution_count": 16,
     "metadata": {},
     "output_type": "execute_result"
    }
   ],
   "source": [
    "de = {\n",
    "    \"A\": 12\n",
    "}\n",
    "pd.DataFrame(de, index = [\"B\"])"
   ]
  },
  {
   "cell_type": "code",
   "execution_count": 17,
   "metadata": {},
   "outputs": [
    {
     "data": {
      "text/plain": [
       "QTR1    5000\n",
       "QTR2    5000\n",
       "QTR3    5000\n",
       "QTR4    5000\n",
       "Name: Budget, dtype: int64"
      ]
     },
     "execution_count": 17,
     "metadata": {},
     "output_type": "execute_result"
    }
   ],
   "source": [
    "# example 9\n",
    "pd.Series(5000, index = [\"QTR1\", \"QTR2\", \"QTR3\", \"QTR4\"], name = \"Budget\")"
   ]
  },
  {
   "cell_type": "markdown",
   "metadata": {},
   "source": []
  },
  {
   "cell_type": "code",
   "execution_count": 18,
   "metadata": {},
   "outputs": [
    {
     "data": {
      "text/plain": [
       "2020    200\n",
       "2022    200\n",
       "2024    200\n",
       "2026    200\n",
       "2028    200\n",
       "dtype: int64"
      ]
     },
     "execution_count": 18,
     "metadata": {},
     "output_type": "execute_result"
    }
   ],
   "source": [
    "# example 10\n",
    "pd.Series(200, np.arange(2020, 2029, 2))"
   ]
  },
  {
   "cell_type": "code",
   "execution_count": 19,
   "metadata": {},
   "outputs": [
    {
     "data": {
      "text/plain": [
       "A    100\n",
       "B    900\n",
       "C    200\n",
       "D    400\n",
       "Name: Section, dtype: int64"
      ]
     },
     "execution_count": 19,
     "metadata": {},
     "output_type": "execute_result"
    }
   ],
   "source": [
    "# example 11\n",
    "l1 = [\"A\", \"B\", \"C\", \"D\"]\n",
    "l2 = [100, 900, 200, 400]\n",
    "\n",
    "ser11 = pd.Series(l2, index = l1, name = \"Section\")\n",
    "ser11"
   ]
  },
  {
   "cell_type": "code",
   "execution_count": 20,
   "metadata": {},
   "outputs": [
    {
     "data": {
      "text/plain": [
       "A    13400.0\n",
       "B    11200.0\n",
       "C    10000.0\n",
       "D    10400.0\n",
       "E        NaN\n",
       "dtype: float32"
      ]
     },
     "execution_count": 20,
     "metadata": {},
     "output_type": "execute_result"
    }
   ],
   "source": [
    "# example 12\n",
    "\n",
    "sec = [\"A\", \"B\", \"C\", \"D\", \"E\"]\n",
    "cont = np.array([6700, 5600, 5000, 5200, np.nan])\n",
    "ser12 = pd.Series(cont * 2, index = sec, dtype = np.float32)\n",
    "ser12"
   ]
  },
  {
   "cell_type": "code",
   "execution_count": 21,
   "metadata": {},
   "outputs": [
    {
     "name": "stdout",
     "output_type": "stream",
     "text": [
      "DataType of e11 and e12 is <class 'pandas.core.series.Series'> and <class 'pandas.core.series.Series'>\n",
      "Shape of e11 and e12 is (4,) and (5,)\n",
      "Bytes of e11 and e12 is 32 and 20\n",
      "Dimensions of e11 and e12 is 1 and 1\n",
      "Item size of e11 and e12 is 4 and 5\n",
      "Has nans? of e11 and e12 is False and True\n",
      "Is empty? of e11 and e12 is False and False\n"
     ]
    }
   ],
   "source": [
    "#Example 13\n",
    "\n",
    "print(f\"DataType of e11 and e12 is {type(ser11)} and {type(ser12)}\")\n",
    "print(f\"Shape of e11 and e12 is {ser11.shape} and {ser12.shape}\")\n",
    "print(f\"Bytes of e11 and e12 is {ser11.nbytes} and {ser12.nbytes}\")\n",
    "print(f\"Dimensions of e11 and e12 is {ser11.ndim} and {ser12.ndim}\")\n",
    "print(f\"Item size of e11 and e12 is {ser11.size} and {ser12.size}\")\n",
    "print(f\"Has nans? of e11 and e12 is {ser11.hasnans} and {ser12.hasnans}\")\n",
    "print(f\"Is empty? of e11 and e12 is {ser11.empty} and {ser12.empty}\")"
   ]
  },
  {
   "cell_type": "code",
   "execution_count": 22,
   "metadata": {},
   "outputs": [
    {
     "data": {
      "text/plain": [
       "A    3900\n",
       "B    4100\n",
       "dtype: int64"
      ]
     },
     "execution_count": 22,
     "metadata": {},
     "output_type": "execute_result"
    }
   ],
   "source": [
    "#Example 14\n",
    "\n",
    "dat = [39, 41, 42, 44]\n",
    "s8 = pd.Series(dat, index = [\"A\", \"B\", \"C\", \"D\"])\n",
    "s8[:2] * 100"
   ]
  },
  {
   "cell_type": "code",
   "execution_count": 23,
   "metadata": {},
   "outputs": [
    {
     "data": {
      "text/plain": [
       "A    7600\n",
       "B    5600\n",
       "C    7000\n",
       "D    7000\n",
       "dtype: int64"
      ]
     },
     "execution_count": 23,
     "metadata": {},
     "output_type": "execute_result"
    }
   ],
   "source": [
    "#Example 15\n",
    "\n",
    "s8 = pd.Series([6700, 5600, 5000, 5200], [\"A\", \"B\", \"C\", \"D\"])\n",
    "s8[\"A\"], s8[2:] = 7600, 7000\n",
    "s8"
   ]
  },
  {
   "cell_type": "code",
   "execution_count": 24,
   "metadata": {},
   "outputs": [
    {
     "name": "stdout",
     "output_type": "stream",
     "text": [
      "0      0\n",
      "1      1\n",
      "2      2\n",
      "3      3\n",
      "4      4\n",
      "      ..\n",
      "95    95\n",
      "96    96\n",
      "97    97\n",
      "98    98\n",
      "99    99\n",
      "Length: 100, dtype: int64\n",
      "24996    24996\n",
      "24997    24997\n",
      "24998    24998\n",
      "24999    24999\n",
      "25000    25000\n",
      "dtype: int64\n"
     ]
    }
   ],
   "source": [
    "#Example 16\n",
    "\n",
    "\n",
    "ser16 = pd.Series(range(25001))\n",
    "print(ser16.head(100))\n",
    "print(ser16.tail())\n"
   ]
  },
  {
   "cell_type": "code",
   "execution_count": 25,
   "metadata": {},
   "outputs": [
    {
     "data": {
      "text/plain": [
       "Science       20\n",
       "Commerce      40\n",
       "Humanities    60\n",
       "dtype: int64"
      ]
     },
     "execution_count": 25,
     "metadata": {},
     "output_type": "execute_result"
    }
   ],
   "source": [
    "#Example 17\n",
    "\n",
    "c11 = pd.Series([10, 20, 30], [\"Science\", \"Commerce\", \"Humanities\"])\n",
    "c12 = pd.Series([10, 20, 30], [\"Science\", \"Commerce\", \"Humanities\"], name = 'lol')\n",
    "\n",
    "c11.__add__(c12)"
   ]
  },
  {
   "cell_type": "code",
   "execution_count": 26,
   "metadata": {},
   "outputs": [
    {
     "name": "stdout",
     "output_type": "stream",
     "text": [
      "Delhi       12123123\n",
      "Mumbai     214214222\n",
      "Kolkata     28722811\n",
      "Chennai     14222221\n",
      "Name: population, dtype: int64\n",
      "\n",
      "\n",
      "Delhi      343675298789714\n",
      "Mumbai      93466371332406\n",
      "Kolkata        87095454124\n",
      "Chennai         9803347124\n",
      "Name: Average income, dtype: int64\n",
      "\n",
      "\n",
      "Per capita income:\n",
      "Delhi      2.834874e+07\n",
      "Mumbai     4.363220e+05\n",
      "Kolkata    3.032275e+03\n",
      "Chennai    6.892979e+02\n",
      "dtype: float64\n"
     ]
    }
   ],
   "source": [
    "#Example 18\n",
    "\n",
    "obj2 = pd.Series([343675298789714, 93466371332406, 87095454124, 9803347124], [\"Delhi\", \"Mumbai\", \"Kolkata\", \"Chennai\"], name = \"Average income\")\n",
    "obj1 = pd.Series([12123123, 214214222, 28722811, 14222221], [\"Delhi\", \"Mumbai\", \"Kolkata\", \"Chennai\"], name = \"population\")\n",
    "p(f\"{obj1}\\n\\n\")\n",
    "p(f\"{obj2}\\n\\n\")\n",
    "p(f\"Per capita income:\\n{obj2/obj1}\")"
   ]
  },
  {
   "cell_type": "code",
   "execution_count": 27,
   "metadata": {},
   "outputs": [
    {
     "name": "stdout",
     "output_type": "stream",
     "text": [
      "0    False\n",
      "1     True\n",
      "2     True\n",
      "dtype: bool\n"
     ]
    },
    {
     "data": {
      "text/plain": [
       "1    41\n",
       "2    51\n",
       "dtype: int16"
      ]
     },
     "execution_count": 27,
     "metadata": {},
     "output_type": "execute_result"
    }
   ],
   "source": [
    "#Example 19\n",
    "\n",
    "cser = pd.Series(np.arange(31, 61, 10, dtype = np.int16))\n",
    "p(cser > 40)\n",
    "cser[cser > 40]"
   ]
  },
  {
   "cell_type": "code",
   "execution_count": 31,
   "metadata": {},
   "outputs": [
    {
     "data": {
      "text/plain": [
       "A    6700\n",
       "B    5600\n",
       "dtype: int64"
      ]
     },
     "execution_count": 31,
     "metadata": {},
     "output_type": "execute_result"
    }
   ],
   "source": [
    "#Example 20\n",
    "\n",
    "s11 = pd.Series([6700, 5600, 5000, 5200], [\"A\", \"B\", \"C\", \"D\"])\n",
    "s11[s11 > 5500]"
   ]
  }
 ],
 "metadata": {
  "kernelspec": {
   "display_name": "Python 3",
   "language": "python",
   "name": "python3"
  },
  "language_info": {
   "codemirror_mode": {
    "name": "ipython",
    "version": 3
   },
   "file_extension": ".py",
   "mimetype": "text/x-python",
   "name": "python",
   "nbconvert_exporter": "python",
   "pygments_lexer": "ipython3",
   "version": "3.11.4"
  },
  "orig_nbformat": 4
 },
 "nbformat": 4,
 "nbformat_minor": 2
}
